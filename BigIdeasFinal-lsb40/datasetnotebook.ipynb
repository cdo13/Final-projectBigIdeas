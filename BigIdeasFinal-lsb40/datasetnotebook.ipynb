{
 "cells": [
  {
   "cell_type": "code",
   "execution_count": 1,
   "metadata": {},
   "outputs": [],
   "source": [
    "import pandas as pd\n",
    "import numpy as np\n",
    "%matplotlib inline\n",
    "import matplotlib.pyplot as plt\n",
    "import geopandas\n",
    "%matplotlib inline"
   ]
  },
  {
   "cell_type": "code",
   "execution_count": 2,
   "metadata": {},
   "outputs": [
    {
     "name": "stdout",
     "output_type": "stream",
     "text": [
      "Number of pools in each neighborhood:\n"
     ]
    },
    {
     "data": {
      "text/plain": [
       "neighborhood\n",
       "Allegheny Center            1\n",
       "Banksville                  1\n",
       "Bedford Dwellings           1\n",
       "Beechview                   1\n",
       "Beltzhoover                 1\n",
       "Bloomfield                  1\n",
       "Brighton Heights            1\n",
       "Brookline                   1\n",
       "Carrick                     1\n",
       "East Hills                  1\n",
       "Greenfield                  1\n",
       "Hazelwood                   1\n",
       "Highland Park               2\n",
       "Homewood South              1\n",
       "Lincoln Place               1\n",
       "Lincoln-Lemington-Belmar    1\n",
       "Mount Washington            1\n",
       "Perry North                 1\n",
       "Polish Hill                 1\n",
       "Shadyside                   1\n",
       "Sheraden                    1\n",
       "South Side Flats            2\n",
       "South Side Slopes           1\n",
       "Squirrel Hill South         1\n",
       "Troy Hill                   1\n",
       "Westwood                    1\n",
       "Name: id, dtype: int64"
      ]
     },
     "execution_count": 2,
     "metadata": {},
     "output_type": "execute_result"
    }
   ],
   "source": [
    "data = pd.read_csv(\"Pools.csv\")\n",
    "data.head()\n",
    "\n",
    "print(\"Number of pools in each neighborhood:\")\n",
    "number_pools = data.groupby(\"neighborhood\")['id'].count()\n",
    "#prints the number of pools in each neighborhood\n",
    "number_pools"
   ]
  },
  {
   "cell_type": "code",
   "execution_count": 4,
   "metadata": {},
   "outputs": [
    {
     "name": "stdout",
     "output_type": "stream",
     "text": [
      "Maximum number of pools a neighborhood has: \n"
     ]
    },
    {
     "data": {
      "text/plain": [
       "2"
      ]
     },
     "execution_count": 4,
     "metadata": {},
     "output_type": "execute_result"
    }
   ],
   "source": [
    "#prints the maximum number of pools a neighboorhood has\n",
    "max_value = number_pools.max()\n",
    "print(\"Maximum number of pools a neighborhood has: \")\n",
    "max_value"
   ]
  },
  {
   "cell_type": "code",
   "execution_count": 77,
   "metadata": {},
   "outputs": [
    {
     "name": "stdout",
     "output_type": "stream",
     "text": [
      "Number of each type of pool:\n"
     ]
    },
    {
     "data": {
      "text/plain": [
       "type\n",
       "Pool          20\n",
       "Spray Park     8\n",
       "Name: id, dtype: int64"
      ]
     },
     "execution_count": 77,
     "metadata": {},
     "output_type": "execute_result"
    }
   ],
   "source": [
    "print(\"Number of each type of pool:\")\n",
    "number_type = data.groupby(\"type\")['id'].count()\n",
    "number_type"
   ]
  },
  {
   "cell_type": "code",
   "execution_count": 100,
   "metadata": {},
   "outputs": [
    {
     "data": {
      "text/plain": [
       "<matplotlib.axes._subplots.AxesSubplot at 0x7f058e794ac0>"
      ]
     },
     "execution_count": 100,
     "metadata": {},
     "output_type": "execute_result"
    },
    {
     "data": {
      "image/png": "[encoded data removed]",
      "text/plain": [
       "<Figure size 432x288 with 1 Axes>"
      ]
     },
     "metadata": {
      "needs_background": "light"
     },
     "output_type": "display_data"
    }
   ],
   "source": [
    "#graph to compare the number of neighboorhoods that have a type of pool\n",
    "data[\"type\"].value_counts().sort_index().plot(kind='bar', rot=0)"
   ]
  },
  {
   "cell_type": "code",
   "execution_count": 101,
   "metadata": {},
   "outputs": [
    {
     "name": "stdout",
     "output_type": "stream",
     "text": [
      "Number of each water source company:\n"
     ]
    },
    {
     "data": {
      "text/plain": [
       "water_source\n",
       "Pennsylvania American Water              8\n",
       "Pittsburgh Water and Sewer Authority    19\n",
       "Wilkinsburg Penn                         1\n",
       "Name: id, dtype: int64"
      ]
     },
     "execution_count": 101,
     "metadata": {},
     "output_type": "execute_result"
    }
   ],
   "source": [
    "print(\"Number of each water source company:\")\n",
    "source_type = data.groupby(\"water_source\")['id'].count()\n",
    "source_type"
   ]
  },
  {
   "cell_type": "code",
   "execution_count": 93,
   "metadata": {},
   "outputs": [
    {
     "data": {
      "text/plain": [
       "<matplotlib.axes._subplots.AxesSubplot at 0x7f058e9ec460>"
      ]
     },
     "execution_count": 93,
     "metadata": {},
     "output_type": "execute_result"
    },
    {
     "data": {
      "image/png": "[encoded data removed]",
      "text/plain": [
       "<Figure size 432x288 with 1 Axes>"
      ]
     },
     "metadata": {
      "needs_background": "light"
     },
     "output_type": "display_data"
    }
   ],
   "source": [
    "data[\"water_source\"].value_counts().sort_index().plot(kind='bar', rot=100)"
   ]
  },
  {
   "cell_type": "code",
   "execution_count": 126,
   "metadata": {},
   "outputs": [
    {
     "name": "stdout",
     "output_type": "stream",
     "text": [
      "                neighborhood  capacity\n",
      "0          Bedford Dwellings  538000.0\n",
      "1                 Banksville  166320.0\n",
      "2                  Beechview       NaN\n",
      "3                 Bloomfield  335000.0\n",
      "4                  Hazelwood       NaN\n",
      "5                  Troy Hill       NaN\n",
      "6                 East Hills       NaN\n",
      "7              Highland Park       NaN\n",
      "8              Highland Park  560242.0\n",
      "9             Homewood South  171075.0\n",
      "10          Brighton Heights  205800.0\n",
      "11                Greenfield  195000.0\n",
      "12             Lincoln Place   18000.0\n",
      "13                 Shadyside       NaN\n",
      "14                 Brookline  417657.0\n",
      "15          South Side Flats  107000.0\n",
      "16          South Side Flats  205800.0\n",
      "17                   Carrick  224100.0\n",
      "18          Mount Washington  356000.0\n",
      "19               Perry North  205800.0\n",
      "20       Squirrel Hill South  187600.0\n",
      "21                  Sheraden  278000.0\n",
      "22          Allegheny Center  271000.0\n",
      "23               Beltzhoover       NaN\n",
      "24               Polish Hill  215451.0\n",
      "25                  Westwood  156840.0\n",
      "26         South Side Slopes       NaN\n",
      "27  Lincoln-Lemington-Belmar       NaN\n",
      "\n",
      "Neighborhood with the largest capacity: \n"
     ]
    },
    {
     "data": {
      "text/plain": [
       "8    Highland Park\n",
       "Name: neighborhood, dtype: object"
      ]
     },
     "execution_count": 126,
     "metadata": {},
     "output_type": "execute_result"
    }
   ],
   "source": [
    "print(data[['neighborhood', 'capacity']])\n",
    "max_v = data['capacity'].max()\n",
    "max_v\n",
    "max_index = data[['capacity']].idxmax()\n",
    "print(\"\\nNeighborhood with the largest capacity: \")\n",
    "data.iloc[max_index, 7]"
   ]
  },
  {
   "cell_type": "code",
   "execution_count": 159,
   "metadata": {},
   "outputs": [
    {
     "name": "stdout",
     "output_type": "stream",
     "text": [
      "    type                          water_source         neighborhood\n",
      "0   Pool  Pittsburgh Water and Sewer Authority    Bedford Dwellings\n",
      "3   Pool  Pittsburgh Water and Sewer Authority           Bloomfield\n",
      "7   Pool  Pittsburgh Water and Sewer Authority        Highland Park\n",
      "8   Pool  Pittsburgh Water and Sewer Authority        Highland Park\n",
      "9   Pool  Pittsburgh Water and Sewer Authority       Homewood South\n",
      "10  Pool  Pittsburgh Water and Sewer Authority     Brighton Heights\n",
      "11  Pool  Pittsburgh Water and Sewer Authority           Greenfield\n",
      "16  Pool  Pittsburgh Water and Sewer Authority     South Side Flats\n",
      "17  Pool  Pittsburgh Water and Sewer Authority              Carrick\n",
      "18  Pool  Pittsburgh Water and Sewer Authority     Mount Washington\n",
      "19  Pool  Pittsburgh Water and Sewer Authority          Perry North\n",
      "20  Pool  Pittsburgh Water and Sewer Authority  Squirrel Hill South\n",
      "22  Pool  Pittsburgh Water and Sewer Authority     Allegheny Center\n",
      "24  Pool  Pittsburgh Water and Sewer Authority          Polish Hill\n"
     ]
    }
   ],
   "source": [
    "#most common water source and pool types\n",
    "water_data = data['water_source'] == \"Pittsburgh Water and Sewer Authority\"\n",
    "pool_data =  data['type'] == \"Pool\"\n",
    "water_pool = data[water_data & pool_data]\n",
    "water_pool\n",
    "print(water_pool[['type', 'water_source', 'neighborhood']])"
   ]
  },
  {
   "cell_type": "code",
   "execution_count": 1,
   "metadata": {},
   "outputs": [],
   "source": [
    "#conclusion: Highland Park is the best neighborhood in Pittsburgh because it has 2 pools, the highest capacity, and has both the most popular water source and the type of pool.\n"
   ]
  }
 ],
 "metadata": {
  "kernelspec": {
   "display_name": "Python 3",
   "language": "python",
   "name": "python3"
  },
  "language_info": {
   "codemirror_mode": {
    "name": "ipython",
    "version": 3
   },
   "file_extension": ".py",
   "mimetype": "text/x-python",
   "name": "python",
   "nbconvert_exporter": "python",
   "pygments_lexer": "ipython3",
   "version": "3.8.3"
  }
 },
 "nbformat": 4,
 "nbformat_minor": 4
}
